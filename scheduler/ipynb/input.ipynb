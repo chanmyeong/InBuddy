{
 "cells": [
  {
   "cell_type": "code",
   "execution_count": 143,
   "id": "initial_id",
   "metadata": {
    "collapsed": true,
    "ExecuteTime": {
     "end_time": "2024-04-03T04:53:17.401364Z",
     "start_time": "2024-04-03T04:53:17.397860Z"
    }
   },
   "outputs": [],
   "source": [
    "import json\n",
    "from datetime import datetime\n",
    "\n",
    "from scheduler.weather_data_fetcher import _request\n",
    "import pandas as pd\n",
    "from joblib import load\n",
    "\n",
    "from redis_manager.redis import redis\n",
    "\n",
    "_DATE_FORMAT = \"%Y%m%d\"\n",
    "_DATE_FORMAT_MINUTE = \"%Y%m%d%H%M\"\n",
    "\n",
    "flight_code = \"KC910\"\n",
    "\n",
    "redis.set_connection('localhost', 6379)\n"
   ]
  },
  {
   "cell_type": "markdown",
   "source": [
    "### 필요한 input 데이터 (순서 중요)\n",
    "\n",
    "- airline: 영문 2자리 \n",
    "- cause: ''이면 '기타'로 치환\n",
    "- destination: 영문 3자리\n",
    "- flight_code:\n",
    "- temperature:\n",
    "- term: 시기, normalize해서 0와 10 사이의 실수로 표현\n",
    "- wind_speed_10m_avg_kt: m/s로 변환하기 위해 0.1944를 곱하기\n",
    "```\n"
   ],
   "metadata": {
    "collapsed": false
   },
   "id": "a0adb1f985f6d5ba"
  },
  {
   "cell_type": "code",
   "outputs": [],
   "source": [
    "model = load(filename=\"lasso_cv_model.joblib\")\n",
    "encoder = load(filename=\"one_hot_encoder.pkl\")\n"
   ],
   "metadata": {
    "collapsed": false,
    "ExecuteTime": {
     "end_time": "2024-04-03T04:53:17.438018Z",
     "start_time": "2024-04-03T04:53:17.432682Z"
    }
   },
   "id": "45959e744a1b41a2",
   "execution_count": 144
  },
  {
   "cell_type": "markdown",
   "source": [],
   "metadata": {
    "collapsed": false
   },
   "id": "c9d313d3e5dedd3d"
  },
  {
   "cell_type": "markdown",
   "source": [],
   "metadata": {
    "collapsed": false
   },
   "id": "18d8be79208aae91"
  },
  {
   "cell_type": "code",
   "outputs": [
    {
     "name": "stderr",
     "output_type": "stream",
     "text": [
      "\u001B[36m2024-04-03 13:53:17 - DEBUG - Weather Data Delta Time: 3 minutes\u001B[0m\n"
     ]
    },
    {
     "data": {
      "text/plain": "({'departure_date': '20240403',\n  'airline': '에어 아스타나',\n  'flight_code': 'KC910',\n  'destination': 'ALA(알마티)',\n  'departure_time_plan': '10:55',\n  'departure_time_expected': '10:55',\n  'departure_time_real': '11:24',\n  'division': '여객',\n  'flight_status': '출발',\n  'cause': ''},\n {'S': 113,\n  'TM': 202404031055,\n  'L_VIS': 10000,\n  'R_VIS': -99999,\n  'L_RVR': 2000,\n  'R_RVR': -99999,\n  'CH_MIN': 3900,\n  'TA': 161,\n  'TD': 41,\n  'HM': 45,\n  'PS': 10074,\n  'PA': 10065,\n  'RN': 0,\n  '예비1': -99999,\n  '예비2': -99999,\n  'WD02': 90,\n  'WD02_MAX': 100,\n  'WD02_MIN': 80,\n  'WS02': 31,\n  'WS02_MAX': 37,\n  'WS02_MIN': 24,\n  'WD10': 70,\n  'WD10_MAX': 90,\n  'WD10_MIN': 30,\n  'WS10': 30,\n  'WS10_MAX': 44,\n  'WS10_MIN': 21})"
     },
     "execution_count": 145,
     "metadata": {},
     "output_type": "execute_result"
    }
   ],
   "source": [
    "redis.select(redis.FLIGHTS_API)\n",
    "flights_data = json.loads(redis.get(datetime.strftime(datetime.today(), _DATE_FORMAT) + 'D'))\n",
    "flight_data = flights_data[flight_code]\n",
    "\n",
    "redis.select(redis.WEATHERS_API)\n",
    "# last_received_time = get_last_received_time()\n",
    "# last_received_time = \"202404031045\"\n",
    "# weather_data = json.loads(redis.get(last_received_time))\n",
    "\n",
    "_, weather_data_array = _request(datetime(2024, 4, 3, 10, 55))\n",
    "weather_data = weather_data_array[-1]\n",
    "flight_data, weather_data"
   ],
   "metadata": {
    "collapsed": false,
    "ExecuteTime": {
     "end_time": "2024-04-03T04:53:17.983915Z",
     "start_time": "2024-04-03T04:53:17.455141Z"
    }
   },
   "id": "9b863cfc0186266f",
   "execution_count": 145
  },
  {
   "cell_type": "markdown",
   "source": [
    "airline\n",
    "flight_code\n",
    "destination\n",
    "cause\n",
    "delay_minute\n",
    "temperature\n",
    "wind_speed_10m_avg_kt\n",
    "term\n",
    "\n",
    "- airline: 영문 2자리 \n",
    "- flight_code:\n",
    "- destination: 영문 3자리\n",
    "- cause: ''이면 '기타'로 치환\n",
    "- temperature:\n",
    "- wind_speed_10m_avg_kt: m/s로 변환하기 위해 0.1944를 곱하기\n",
    "- term: 시기, normalize해서 0와 10 사이의 실수로 표현"
   ],
   "metadata": {
    "collapsed": false
   },
   "id": "43d85a4d48affef3"
  },
  {
   "cell_type": "code",
   "outputs": [],
   "source": [
    "def normalize_date(now):\n",
    "    year = now.year\n",
    "    month = now.month\n",
    "    day = now.day\n",
    "    is_leap_year = now.is_leap_year\n",
    "\n",
    "    month_days = [0, 31, 29 if is_leap_year else 28, 31, 30, 31, 30, 31, 31,\n",
    "                  30,\n",
    "                  31, 30, 31]\n",
    "\n",
    "    cumulative_days = sum(month_days[:month]) + day\n",
    "\n",
    "    max_days = 366 if is_leap_year else 365\n",
    "\n",
    "    normalized = (cumulative_days - 1) / (\n",
    "            max_days - 1)  # 1월 1일은 0으로, 12월 31일은 1로 정규화\n",
    "    return normalized * 10"
   ],
   "metadata": {
    "collapsed": false,
    "ExecuteTime": {
     "end_time": "2024-04-03T04:53:17.988116Z",
     "start_time": "2024-04-03T04:53:17.984916Z"
    }
   },
   "id": "56eddeff66cb75bf",
   "execution_count": 146
  },
  {
   "cell_type": "code",
   "outputs": [
    {
     "data": {
      "text/plain": "  airline flight_code destination cause delay_minute  temperature  \\\n0      KC       KC910         ALA    기타         None         16.1   \n\n   wind_speed_10m_avg_kt      term  \n0                5.83152  2.547945  ",
      "text/html": "<div>\n<style scoped>\n    .dataframe tbody tr th:only-of-type {\n        vertical-align: middle;\n    }\n\n    .dataframe tbody tr th {\n        vertical-align: top;\n    }\n\n    .dataframe thead th {\n        text-align: right;\n    }\n</style>\n<table border=\"1\" class=\"dataframe\">\n  <thead>\n    <tr style=\"text-align: right;\">\n      <th></th>\n      <th>airline</th>\n      <th>flight_code</th>\n      <th>destination</th>\n      <th>cause</th>\n      <th>delay_minute</th>\n      <th>temperature</th>\n      <th>wind_speed_10m_avg_kt</th>\n      <th>term</th>\n    </tr>\n  </thead>\n  <tbody>\n    <tr>\n      <th>0</th>\n      <td>KC</td>\n      <td>KC910</td>\n      <td>ALA</td>\n      <td>기타</td>\n      <td>None</td>\n      <td>16.1</td>\n      <td>5.83152</td>\n      <td>2.547945</td>\n    </tr>\n  </tbody>\n</table>\n</div>"
     },
     "execution_count": 147,
     "metadata": {},
     "output_type": "execute_result"
    }
   ],
   "source": [
    "COLUMNS = ['airline',\n",
    "           'flight_code',\n",
    "           'destination',\n",
    "           'cause',\n",
    "           'delay_minute',\n",
    "           'temperature',\n",
    "           'wind_speed_10m_avg_kt',\n",
    "           'term']\n",
    "\n",
    "df = pd.DataFrame(columns=COLUMNS)\n",
    "\n",
    "data = {\n",
    "    'airline': flight_data['flight_code'][:2],\n",
    "    'flight_code': flight_data['flight_code'],\n",
    "    'destination': flight_data['destination'][:3],\n",
    "    'cause': '기타' if flight_data['cause'] == '' else flight_data['cause'],\n",
    "    'delay_minute': None,\n",
    "    'temperature': weather_data['TA'] / 10,\n",
    "    'wind_speed_10m_avg_kt': weather_data['WS10'] * 0.194384,\n",
    "    'term': normalize_date(\n",
    "            pd.to_datetime(flight_data['departure_date'] + flight_data['departure_time_plan'],\n",
    "                           format=\"%Y%m%d%H:%M\"))\n",
    "}\n",
    "\n",
    "df.loc[0] = data\n",
    "\n",
    "df.head()"
   ],
   "metadata": {
    "collapsed": false,
    "ExecuteTime": {
     "end_time": "2024-04-03T04:53:17.998075Z",
     "start_time": "2024-04-03T04:53:17.988116Z"
    }
   },
   "id": "6503065e04a7979b",
   "execution_count": 147
  },
  {
   "cell_type": "code",
   "outputs": [],
   "source": [
    "categorical_features = [\n",
    "    'airline',\n",
    "    'flight_code',\n",
    "    'destination',\n",
    "    'cause']\n",
    "numeric_features = [col for col in df.columns if col not in categorical_features]\n",
    "\n",
    "encoded_data = encoder.transform(df)\n",
    "encoded_df = pd.DataFrame(encoded_data.toarray())\n",
    "\n",
    "new_column_names = encoder.named_transformers_['encoder'].get_feature_names_out(\n",
    "        input_features=categorical_features)\n",
    "all_column_names = list(new_column_names) + list(numeric_features)\n",
    "encoded_df.columns = all_column_names\n",
    "\n",
    "encoded_df.drop('delay_minute', axis=1, inplace=True)\n",
    "# encoded_df.head()"
   ],
   "metadata": {
    "collapsed": false,
    "ExecuteTime": {
     "end_time": "2024-04-03T04:53:18.011172Z",
     "start_time": "2024-04-03T04:53:17.999074Z"
    }
   },
   "id": "effc5408e6bc3eb3",
   "execution_count": 148
  },
  {
   "cell_type": "markdown",
   "source": [],
   "metadata": {
    "collapsed": false
   },
   "id": "e48d0e2d688105d9"
  },
  {
   "cell_type": "code",
   "outputs": [
    {
     "data": {
      "text/plain": "array([76.28631931])"
     },
     "execution_count": 149,
     "metadata": {},
     "output_type": "execute_result"
    }
   ],
   "source": [
    "y_pred = model.predict(encoded_df)\n",
    "\n",
    "y_pred"
   ],
   "metadata": {
    "collapsed": false,
    "ExecuteTime": {
     "end_time": "2024-04-03T04:53:18.027563Z",
     "start_time": "2024-04-03T04:53:18.011172Z"
    }
   },
   "id": "87521aeb1d0a3ada",
   "execution_count": 149
  }
 ],
 "metadata": {
  "kernelspec": {
   "display_name": "Python 3",
   "language": "python",
   "name": "python3"
  },
  "language_info": {
   "codemirror_mode": {
    "name": "ipython",
    "version": 2
   },
   "file_extension": ".py",
   "mimetype": "text/x-python",
   "name": "python",
   "nbconvert_exporter": "python",
   "pygments_lexer": "ipython2",
   "version": "2.7.6"
  }
 },
 "nbformat": 4,
 "nbformat_minor": 5
}
