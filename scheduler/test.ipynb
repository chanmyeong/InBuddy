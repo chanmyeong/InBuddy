{
 "cells": [
  {
   "cell_type": "code",
   "outputs": [],
   "source": [
    "import os\n",
    "import pandas as pd\n",
    "import numpy as np\n",
    "from datetime import datetime\n",
    "from sklearn.preprocessing import OneHotEncoder\n",
    "from sklearn.compose import ColumnTransformer\n",
    "from sklearn.preprocessing import StandardScaler, MinMaxScaler\n",
    "from sklearn.model_selection import train_test_split\n",
    "from sklearn.linear_model import SGDRegressor\n",
    "from sklearn.metrics import mean_absolute_error, mean_squared_error\n",
    "from sklearn.linear_model import LassoCV\n",
    "from sklearn.pipeline import make_pipeline\n",
    "from joblib import dump\n"
   ],
   "metadata": {
    "collapsed": false,
    "ExecuteTime": {
     "end_time": "2024-04-02T13:30:10.921659Z",
     "start_time": "2024-04-02T13:30:09.137205Z"
    }
   },
   "id": "a4801b224b9a46dc",
   "execution_count": 1
  },
  {
   "cell_type": "code",
   "outputs": [
    {
     "name": "stdout",
     "output_type": "stream",
     "text": [
      "항공 데이터 컬럼:  Index(['flight_info_id', 'departure_date', 'airline', 'flight_code',\n",
      "       'destination', 'departure_time_plan', 'departure_time_expexted',\n",
      "       'departure_time_real', 'division', 'flight_status', 'cause'],\n",
      "      dtype='object')\n",
      "   flight_info_id  departure_date airline flight_code destination  \\\n",
      "0               1        20070101  중국남방항공      CZ3086   HAK(하이커우)   \n",
      "1               2        20070101    대한항공      KE1452     GMP(김포)   \n",
      "2               3        20070101  중국남방항공      CZ3088     SYX(산야)   \n",
      "3               4        20070101    대한항공       KE787   FUK(후쿠오카)   \n",
      "4               5        20070101    대한항공       KE621    MNL(마닐라)   \n",
      "\n",
      "  departure_time_plan departure_time_expexted departure_time_real division  \\\n",
      "0               06:30                   06:49               06:34       여객   \n",
      "1               06:30                   06:30               06:50      NaN   \n",
      "2               07:00                   07:23               07:10       여객   \n",
      "3               08:00                   08:14               08:10       여객   \n",
      "4               08:00                   08:20               08:16       여객   \n",
      "\n",
      "  flight_status cause  \n",
      "0            출발   NaN  \n",
      "1            출발   NaN  \n",
      "2            출발   NaN  \n",
      "3            출발   NaN  \n",
      "4            출발   NaN  \n",
      "날씨 데이터 컬럼:  Index(['weather_id', 'point', 'weather_date', 'temperature',\n",
      "       'wind_speed_10m_avg_kt', 'wind_dir_10m_avg_deg', 'mor_10m_avg_m',\n",
      "       'rvr_10m_avg_m', ' cumulative_precipitation_mm'],\n",
      "      dtype='object')\n",
      "   weather_id  point      weather_date  temperature  wind_speed_10m_avg_kt  \\\n",
      "0           1    113  2007-01-01 00:01          0.2                    2.3   \n",
      "1           2    113  2007-01-01 00:02          0.2                    2.3   \n",
      "2           3    113  2007-01-01 00:03          0.1                    2.3   \n",
      "3           4    113  2007-01-01 00:04          0.1                    2.3   \n",
      "4           5    113  2007-01-01 00:05          0.0                    2.5   \n",
      "\n",
      "   wind_dir_10m_avg_deg  mor_10m_avg_m  rvr_10m_avg_m  \\\n",
      "0                  75.0         3000.0         2600.0   \n",
      "1                  73.0         3000.0         2600.0   \n",
      "2                  72.0         3000.0         2600.0   \n",
      "3                  71.0         3000.0         2600.0   \n",
      "4                  70.0         3000.0         2600.0   \n",
      "\n",
      "    cumulative_precipitation_mm  \n",
      "0                           0.0  \n",
      "1                           0.0  \n",
      "2                           0.0  \n",
      "3                           0.0  \n",
      "4                           0.0  \n"
     ]
    }
   ],
   "source": [
    "flight_df = pd.read_csv('flight.csv', header=0, encoding='cp949')\n",
    "weather_df = pd.read_csv('weather.csv', header=0, encoding='cp949')\n",
    "\n",
    "print('항공 데이터 컬럼: ', flight_df.columns)\n",
    "print(flight_df.head())\n",
    "\n",
    "print('날씨 데이터 컬럼: ', weather_df.columns)\n",
    "print(weather_df.head())\n"
   ],
   "metadata": {
    "collapsed": true,
    "ExecuteTime": {
     "end_time": "2024-04-02T13:42:36.708369Z",
     "start_time": "2024-04-02T13:42:22.838632Z"
    }
   },
   "id": "initial_id",
   "execution_count": 4
  },
  {
   "cell_type": "markdown",
   "source": [
    "지점 point\n",
    "일시 weather_date\n",
    "기온 temperature\n",
    "10분평균풍속(KT) wind_speed_10m_avg_kt (o) -> WS10 * \n",
    "10분평균풍향(deg) wind_dir_10m_avg_deg (o) -> WD10\n",
    "10분평균MOR(m) mor_10m_avg_m (x)\n",
    "10분평균RVR(m) rvr_10m_avg_m (x)\n",
    "누적강수량(mm) cumulative_precipitation_mm (x)"
   ],
   "metadata": {
    "collapsed": false
   },
   "id": "c532d39ce147d8d5"
  },
  {
   "cell_type": "code",
   "outputs": [
    {
     "data": {
      "text/plain": "                        weather_date   temperature  wind_speed_10m_avg_kt  \\\ncount                        8801013  8.800550e+06           8.800920e+06   \nmean   2015-05-17 05:19:54.027431936  1.222269e+01           7.324073e+00   \nmin              2007-01-01 00:01:00 -9.999000e+02          -9.999000e+02   \n25%              2011-02-18 15:36:00  3.700000e+00           4.100000e+00   \n50%              2015-03-30 06:58:00  1.340000e+01           6.600000e+00   \n75%              2019-06-05 19:48:00  2.160000e+01           9.700000e+00   \nmax              2024-04-02 00:00:00  3.680000e+01           5.120000e+01   \nstd                              NaN  1.881518e+01           8.368988e+00   \n\n        cumulative_precipitation_mm  mor_10m_avg_km  \ncount                  8.775057e+06    8.801012e+06  \nmean                   1.537805e+00    4.099915e+00  \nmin                   -9.999000e+02   -9.999000e+00  \n25%                    0.000000e+00    3.000000e+00  \n50%                    0.000000e+00    3.000000e+00  \n75%                    0.000000e+00    3.000000e+00  \nmax                    1.765000e+02    1.000000e+01  \nstd                    1.269778e+01    2.678412e+00  ",
      "text/html": "<div>\n<style scoped>\n    .dataframe tbody tr th:only-of-type {\n        vertical-align: middle;\n    }\n\n    .dataframe tbody tr th {\n        vertical-align: top;\n    }\n\n    .dataframe thead th {\n        text-align: right;\n    }\n</style>\n<table border=\"1\" class=\"dataframe\">\n  <thead>\n    <tr style=\"text-align: right;\">\n      <th></th>\n      <th>weather_date</th>\n      <th>temperature</th>\n      <th>wind_speed_10m_avg_kt</th>\n      <th>cumulative_precipitation_mm</th>\n      <th>mor_10m_avg_km</th>\n    </tr>\n  </thead>\n  <tbody>\n    <tr>\n      <th>count</th>\n      <td>8801013</td>\n      <td>8.800550e+06</td>\n      <td>8.800920e+06</td>\n      <td>8.775057e+06</td>\n      <td>8.801012e+06</td>\n    </tr>\n    <tr>\n      <th>mean</th>\n      <td>2015-05-17 05:19:54.027431936</td>\n      <td>1.222269e+01</td>\n      <td>7.324073e+00</td>\n      <td>1.537805e+00</td>\n      <td>4.099915e+00</td>\n    </tr>\n    <tr>\n      <th>min</th>\n      <td>2007-01-01 00:01:00</td>\n      <td>-9.999000e+02</td>\n      <td>-9.999000e+02</td>\n      <td>-9.999000e+02</td>\n      <td>-9.999000e+00</td>\n    </tr>\n    <tr>\n      <th>25%</th>\n      <td>2011-02-18 15:36:00</td>\n      <td>3.700000e+00</td>\n      <td>4.100000e+00</td>\n      <td>0.000000e+00</td>\n      <td>3.000000e+00</td>\n    </tr>\n    <tr>\n      <th>50%</th>\n      <td>2015-03-30 06:58:00</td>\n      <td>1.340000e+01</td>\n      <td>6.600000e+00</td>\n      <td>0.000000e+00</td>\n      <td>3.000000e+00</td>\n    </tr>\n    <tr>\n      <th>75%</th>\n      <td>2019-06-05 19:48:00</td>\n      <td>2.160000e+01</td>\n      <td>9.700000e+00</td>\n      <td>0.000000e+00</td>\n      <td>3.000000e+00</td>\n    </tr>\n    <tr>\n      <th>max</th>\n      <td>2024-04-02 00:00:00</td>\n      <td>3.680000e+01</td>\n      <td>5.120000e+01</td>\n      <td>1.765000e+02</td>\n      <td>1.000000e+01</td>\n    </tr>\n    <tr>\n      <th>std</th>\n      <td>NaN</td>\n      <td>1.881518e+01</td>\n      <td>8.368988e+00</td>\n      <td>1.269778e+01</td>\n      <td>2.678412e+00</td>\n    </tr>\n  </tbody>\n</table>\n</div>"
     },
     "execution_count": 8,
     "metadata": {},
     "output_type": "execute_result"
    }
   ],
   "source": [
    "wdf = weather_df.copy()\n",
    "\n",
    "wdf['mor_10m_avg_km'] = wdf['mor_10m_avg_m'] / 1000\n",
    "wdf['weather_date'] = pd.to_datetime(wdf['weather_date'])\n",
    "\n",
    "wdf.drop(columns=['weather_id', 'point', 'wind_dir_10m_avg_deg', 'rvr_10m_avg_m', 'mor_10m_avg_m'],\n",
    "         inplace=True)\n",
    "\n",
    "wdf.describe()"
   ],
   "metadata": {
    "collapsed": false,
    "ExecuteTime": {
     "end_time": "2024-04-02T13:57:10.009729Z",
     "start_time": "2024-04-02T13:57:02.861508Z"
    }
   },
   "id": "82f4f1da57da531f",
   "execution_count": 8
  },
  {
   "cell_type": "markdown",
   "source": [
    "['flight_info_id', 'departure_date', 'airline', 'flight_code',\n",
    "       'destination', 'departure_time_plan', 'departure_time_expexted',\n",
    "       'departure_time_real', 'division', 'flight_status', 'cause']\n",
    "   flight_info_id  departure_date airline flight_code destination  \\\n",
    "0               1        20070101  중국남방항공      CZ3086   HAK(하이커우)   \n",
    "1               2        20070101    대한항공      KE1452     GMP(김포)   \n",
    "2               3        20070101  중국남방항공      CZ3088     SYX(산야)   \n",
    "3               4        20070101    대한항공       KE787   FUK(후쿠오카)   \n",
    "4               5        20070101    대한항공       KE621    MNL(마닐라)   \n",
    "\n",
    "  departure_time_plan departure_time_expexted departure_time_real division  \\\n",
    "0               06:30                   06:49               06:34       여객   \n",
    "1               06:30                   06:30               06:50      NaN   \n",
    "2               07:00                   07:23               07:10       여객   \n",
    "3               08:00                   08:14               08:10       여객   \n",
    "4               08:00                   08:20               08:16       여객   \n",
    "\n",
    "  flight_status cause  \n",
    "0            출발   NaN  \n",
    "1            출발   NaN  \n",
    "2            출발   NaN  \n",
    "3            출발   NaN  \n",
    "4            출발   NaN "
   ],
   "metadata": {
    "collapsed": false
   },
   "id": "b4e3e194ca43ac42"
  },
  {
   "cell_type": "code",
   "outputs": [
    {
     "data": {
      "text/plain": "    airline flight_code destination   cause      departure_time  delay_minute\n76       KE       KE831         SHE   기상-시정 2007-01-01 11:15:00          85.0\n91       CA       CA172         TSN  연결-항공기 2007-01-01 12:20:00         126.0\n99       MU      MU5022         XIY  연결-항공기 2007-01-01 12:45:00          77.0\n143      MU      MU2034         TAO      기타 2007-01-01 15:10:00          70.0\n185      CA       CA126         PEK  연결-항공기 2007-01-01 18:20:00          83.0",
      "text/html": "<div>\n<style scoped>\n    .dataframe tbody tr th:only-of-type {\n        vertical-align: middle;\n    }\n\n    .dataframe tbody tr th {\n        vertical-align: top;\n    }\n\n    .dataframe thead th {\n        text-align: right;\n    }\n</style>\n<table border=\"1\" class=\"dataframe\">\n  <thead>\n    <tr style=\"text-align: right;\">\n      <th></th>\n      <th>airline</th>\n      <th>flight_code</th>\n      <th>destination</th>\n      <th>cause</th>\n      <th>departure_time</th>\n      <th>delay_minute</th>\n    </tr>\n  </thead>\n  <tbody>\n    <tr>\n      <th>76</th>\n      <td>KE</td>\n      <td>KE831</td>\n      <td>SHE</td>\n      <td>기상-시정</td>\n      <td>2007-01-01 11:15:00</td>\n      <td>85.0</td>\n    </tr>\n    <tr>\n      <th>91</th>\n      <td>CA</td>\n      <td>CA172</td>\n      <td>TSN</td>\n      <td>연결-항공기</td>\n      <td>2007-01-01 12:20:00</td>\n      <td>126.0</td>\n    </tr>\n    <tr>\n      <th>99</th>\n      <td>MU</td>\n      <td>MU5022</td>\n      <td>XIY</td>\n      <td>연결-항공기</td>\n      <td>2007-01-01 12:45:00</td>\n      <td>77.0</td>\n    </tr>\n    <tr>\n      <th>143</th>\n      <td>MU</td>\n      <td>MU2034</td>\n      <td>TAO</td>\n      <td>기타</td>\n      <td>2007-01-01 15:10:00</td>\n      <td>70.0</td>\n    </tr>\n    <tr>\n      <th>185</th>\n      <td>CA</td>\n      <td>CA126</td>\n      <td>PEK</td>\n      <td>연결-항공기</td>\n      <td>2007-01-01 18:20:00</td>\n      <td>83.0</td>\n    </tr>\n  </tbody>\n</table>\n</div>"
     },
     "execution_count": 24,
     "metadata": {},
     "output_type": "execute_result"
    }
   ],
   "source": [
    "fdf = flight_df.copy()\n",
    "fdf = fdf[fdf['flight_status'] == '지연']\n",
    "fdf = fdf[fdf['division'] == '여객']\n",
    "\n",
    "fdf['departure_date'] = pd.to_datetime(fdf['departure_date'], format='%Y%m%d')\n",
    "fdf['departure_time_plan'] = pd.to_datetime(fdf['departure_time_plan'], format='%H:%M',\n",
    "                                            errors='coerce')\n",
    "fdf['departure_time_real'] = pd.to_datetime(fdf['departure_time_real'], format='%H:%M',\n",
    "                                            errors='coerce')\n",
    "\n",
    "fdf['airline'] = fdf['flight_code'].str[:2]\n",
    "\n",
    "fdf.dropna(subset=['departure_time_plan'], inplace=True)\n",
    "fdf.dropna(subset=['departure_time_real'], inplace=True)\n",
    "fdf.dropna(subset=['departure_date'], inplace=True)\n",
    "\n",
    "fdf['cause'] = fdf['cause'].fillna('기타')\n",
    "fdf['destination'] = fdf['destination'].str[:3]\n",
    "\n",
    "fdf['departure_time'] = pd.to_datetime(\n",
    "        fdf['departure_date'].dt.strftime('%Y-%m-%d') + ' ' + fdf[\n",
    "            'departure_time_plan'].dt.strftime('%H:%M'))\n",
    "\n",
    "departure_datetime = pd.to_datetime(\n",
    "        fdf['departure_date'].dt.strftime('%Y-%m-%d') + ' ' + fdf[\n",
    "            'departure_time_real'].dt.strftime('%H:%M'))\n",
    "delay_seconds = (departure_datetime - fdf['departure_time']).dt.total_seconds()\n",
    "fdf['delay_minute'] = delay_seconds.apply(lambda x: x if x > 0 else 86400 + x).astype(int) / 60\n",
    "\n",
    "# fdf['delay_minute'] = (pd.to_datetime(\n",
    "#         fdf['departure_date'].dt.strftime('%Y-%m-%d') + ' ' + fdf[\n",
    "#             'departure_time_real'].dt.strftime(\n",
    "#                 '%H:%M')) - fdf['departure_time']).dt.total_seconds().astype(int) / 60\n",
    "fdf.drop(columns=['flight_info_id', 'division', 'flight_status', 'departure_date',\n",
    "                  'departure_time_plan', 'departure_time_real', 'departure_time_expexted'],\n",
    "         inplace=True)\n",
    "\n",
    "fdf.head()"
   ],
   "metadata": {
    "collapsed": false,
    "ExecuteTime": {
     "end_time": "2024-04-02T14:41:30.936824Z",
     "start_time": "2024-04-02T14:41:28.064693Z"
    }
   },
   "id": "7022388a9bee0d40",
   "execution_count": 24
  },
  {
   "cell_type": "code",
   "outputs": [],
   "source": [
    "def normalize_date(row):\n",
    "    year = row['departure_time'].year\n",
    "    month = row['departure_time'].month\n",
    "    day = row['departure_time'].day\n",
    "    is_leap_year = row['departure_time'].is_leap_year\n",
    "\n",
    "    month_days = [0, 31, 29 if is_leap_year else 28, 31, 30, 31, 30, 31, 31,\n",
    "                  30,\n",
    "                  31, 30, 31]\n",
    "\n",
    "    cumulative_days = sum(month_days[:month]) + day\n",
    "\n",
    "    max_days = 366 if is_leap_year else 365\n",
    "\n",
    "    normalized = (cumulative_days - 1) / (\n",
    "            max_days - 1)  # 1월 1일은 0으로, 12월 31일은 1로 정규화\n",
    "    return normalized * 10"
   ],
   "metadata": {
    "collapsed": false,
    "ExecuteTime": {
     "end_time": "2024-04-02T14:42:02.264548Z",
     "start_time": "2024-04-02T14:42:02.258979Z"
    }
   },
   "id": "870915ec4b65de86",
   "execution_count": 28
  },
  {
   "cell_type": "code",
   "outputs": [
    {
     "data": {
      "text/plain": "  airline flight_code destination   cause  delay_minute  temperature  \\\n0      KE       KE831         SHE   기상-시정          85.0          3.5   \n1      CA       CA172         TSN  연결-항공기         126.0          4.2   \n2      MU      MU5022         XIY  연결-항공기          77.0          4.4   \n3      MU      MU2034         TAO      기타          70.0          5.1   \n4      CA       CA126         PEK  연결-항공기          83.0          5.6   \n\n   wind_speed_10m_avg_kt   cumulative_precipitation_mm  mor_10m_avg_km  term  \n0                    5.2                           0.0             3.0   0.0  \n1                    4.9                           0.0             3.0   0.0  \n2                    3.7                           0.0             3.0   0.0  \n3                    3.1                           0.0             3.0   0.0  \n4                    4.3                           0.0             3.0   0.0  ",
      "text/html": "<div>\n<style scoped>\n    .dataframe tbody tr th:only-of-type {\n        vertical-align: middle;\n    }\n\n    .dataframe tbody tr th {\n        vertical-align: top;\n    }\n\n    .dataframe thead th {\n        text-align: right;\n    }\n</style>\n<table border=\"1\" class=\"dataframe\">\n  <thead>\n    <tr style=\"text-align: right;\">\n      <th></th>\n      <th>airline</th>\n      <th>flight_code</th>\n      <th>destination</th>\n      <th>cause</th>\n      <th>delay_minute</th>\n      <th>temperature</th>\n      <th>wind_speed_10m_avg_kt</th>\n      <th>cumulative_precipitation_mm</th>\n      <th>mor_10m_avg_km</th>\n      <th>term</th>\n    </tr>\n  </thead>\n  <tbody>\n    <tr>\n      <th>0</th>\n      <td>KE</td>\n      <td>KE831</td>\n      <td>SHE</td>\n      <td>기상-시정</td>\n      <td>85.0</td>\n      <td>3.5</td>\n      <td>5.2</td>\n      <td>0.0</td>\n      <td>3.0</td>\n      <td>0.0</td>\n    </tr>\n    <tr>\n      <th>1</th>\n      <td>CA</td>\n      <td>CA172</td>\n      <td>TSN</td>\n      <td>연결-항공기</td>\n      <td>126.0</td>\n      <td>4.2</td>\n      <td>4.9</td>\n      <td>0.0</td>\n      <td>3.0</td>\n      <td>0.0</td>\n    </tr>\n    <tr>\n      <th>2</th>\n      <td>MU</td>\n      <td>MU5022</td>\n      <td>XIY</td>\n      <td>연결-항공기</td>\n      <td>77.0</td>\n      <td>4.4</td>\n      <td>3.7</td>\n      <td>0.0</td>\n      <td>3.0</td>\n      <td>0.0</td>\n    </tr>\n    <tr>\n      <th>3</th>\n      <td>MU</td>\n      <td>MU2034</td>\n      <td>TAO</td>\n      <td>기타</td>\n      <td>70.0</td>\n      <td>5.1</td>\n      <td>3.1</td>\n      <td>0.0</td>\n      <td>3.0</td>\n      <td>0.0</td>\n    </tr>\n    <tr>\n      <th>4</th>\n      <td>CA</td>\n      <td>CA126</td>\n      <td>PEK</td>\n      <td>연결-항공기</td>\n      <td>83.0</td>\n      <td>5.6</td>\n      <td>4.3</td>\n      <td>0.0</td>\n      <td>3.0</td>\n      <td>0.0</td>\n    </tr>\n  </tbody>\n</table>\n</div>"
     },
     "execution_count": 46,
     "metadata": {},
     "output_type": "execute_result"
    }
   ],
   "source": [
    "merged_df = pd.merge(fdf, wdf, left_on='departure_time', right_on='weather_date', how='inner')\n",
    "\n",
    "merged_df['term'] = merged_df.apply(normalize_date, axis=1)\n",
    "\n",
    "merged_df.drop(columns=['departure_time', 'weather_date'], inplace=True)\n",
    "merged_df.head()"
   ],
   "metadata": {
    "collapsed": false,
    "ExecuteTime": {
     "end_time": "2024-04-02T16:08:36.341931Z",
     "start_time": "2024-04-02T16:08:31.760479Z"
    }
   },
   "id": "b4048a8e391b60f6",
   "execution_count": 46
  },
  {
   "cell_type": "code",
   "outputs": [
    {
     "data": {
      "text/plain": "   airline_2P  airline_3P  airline_3U  airline_5J  airline_5M  airline_5W  \\\n0         0.0         0.0         0.0         0.0         0.0         0.0   \n1         0.0         0.0         0.0         0.0         0.0         0.0   \n2         0.0         0.0         0.0         0.0         0.0         0.0   \n3         0.0         0.0         0.0         0.0         0.0         0.0   \n4         0.0         0.0         0.0         0.0         0.0         0.0   \n\n   airline_5X  airline_5Y  airline_6K  airline_7C  ...  \\\n0         0.0         0.0         0.0         0.0  ...   \n1         0.0         0.0         0.0         0.0  ...   \n2         0.0         0.0         0.0         0.0  ...   \n3         0.0         0.0         0.0         0.0  ...   \n4         0.0         0.0         0.0         0.0  ...   \n\n   cause_환승 수속 오류(승객, 위탁 수화물)  cause_환자  cause_활주로변경  cause_활주로폐쇄  \\\n0                         0.0       0.0          0.0          0.0   \n1                         0.0       0.0          0.0          0.0   \n2                         0.0       0.0          0.0          0.0   \n3                         0.0       0.0          0.0          0.0   \n4                         0.0       0.0          0.0          0.0   \n\n   delay_minute  temperature  wind_speed_10m_avg_kt  \\\n0          85.0          3.5                    5.2   \n1         126.0          4.2                    4.9   \n2          77.0          4.4                    3.7   \n3          70.0          5.1                    3.1   \n4          83.0          5.6                    4.3   \n\n    cumulative_precipitation_mm  mor_10m_avg_km  term  \n0                           0.0             3.0   0.0  \n1                           0.0             3.0   0.0  \n2                           0.0             3.0   0.0  \n3                           0.0             3.0   0.0  \n4                           0.0             3.0   0.0  \n\n[5 rows x 3177 columns]",
      "text/html": "<div>\n<style scoped>\n    .dataframe tbody tr th:only-of-type {\n        vertical-align: middle;\n    }\n\n    .dataframe tbody tr th {\n        vertical-align: top;\n    }\n\n    .dataframe thead th {\n        text-align: right;\n    }\n</style>\n<table border=\"1\" class=\"dataframe\">\n  <thead>\n    <tr style=\"text-align: right;\">\n      <th></th>\n      <th>airline_2P</th>\n      <th>airline_3P</th>\n      <th>airline_3U</th>\n      <th>airline_5J</th>\n      <th>airline_5M</th>\n      <th>airline_5W</th>\n      <th>airline_5X</th>\n      <th>airline_5Y</th>\n      <th>airline_6K</th>\n      <th>airline_7C</th>\n      <th>...</th>\n      <th>cause_환승 수속 오류(승객, 위탁 수화물)</th>\n      <th>cause_환자</th>\n      <th>cause_활주로변경</th>\n      <th>cause_활주로폐쇄</th>\n      <th>delay_minute</th>\n      <th>temperature</th>\n      <th>wind_speed_10m_avg_kt</th>\n      <th>cumulative_precipitation_mm</th>\n      <th>mor_10m_avg_km</th>\n      <th>term</th>\n    </tr>\n  </thead>\n  <tbody>\n    <tr>\n      <th>0</th>\n      <td>0.0</td>\n      <td>0.0</td>\n      <td>0.0</td>\n      <td>0.0</td>\n      <td>0.0</td>\n      <td>0.0</td>\n      <td>0.0</td>\n      <td>0.0</td>\n      <td>0.0</td>\n      <td>0.0</td>\n      <td>...</td>\n      <td>0.0</td>\n      <td>0.0</td>\n      <td>0.0</td>\n      <td>0.0</td>\n      <td>85.0</td>\n      <td>3.5</td>\n      <td>5.2</td>\n      <td>0.0</td>\n      <td>3.0</td>\n      <td>0.0</td>\n    </tr>\n    <tr>\n      <th>1</th>\n      <td>0.0</td>\n      <td>0.0</td>\n      <td>0.0</td>\n      <td>0.0</td>\n      <td>0.0</td>\n      <td>0.0</td>\n      <td>0.0</td>\n      <td>0.0</td>\n      <td>0.0</td>\n      <td>0.0</td>\n      <td>...</td>\n      <td>0.0</td>\n      <td>0.0</td>\n      <td>0.0</td>\n      <td>0.0</td>\n      <td>126.0</td>\n      <td>4.2</td>\n      <td>4.9</td>\n      <td>0.0</td>\n      <td>3.0</td>\n      <td>0.0</td>\n    </tr>\n    <tr>\n      <th>2</th>\n      <td>0.0</td>\n      <td>0.0</td>\n      <td>0.0</td>\n      <td>0.0</td>\n      <td>0.0</td>\n      <td>0.0</td>\n      <td>0.0</td>\n      <td>0.0</td>\n      <td>0.0</td>\n      <td>0.0</td>\n      <td>...</td>\n      <td>0.0</td>\n      <td>0.0</td>\n      <td>0.0</td>\n      <td>0.0</td>\n      <td>77.0</td>\n      <td>4.4</td>\n      <td>3.7</td>\n      <td>0.0</td>\n      <td>3.0</td>\n      <td>0.0</td>\n    </tr>\n    <tr>\n      <th>3</th>\n      <td>0.0</td>\n      <td>0.0</td>\n      <td>0.0</td>\n      <td>0.0</td>\n      <td>0.0</td>\n      <td>0.0</td>\n      <td>0.0</td>\n      <td>0.0</td>\n      <td>0.0</td>\n      <td>0.0</td>\n      <td>...</td>\n      <td>0.0</td>\n      <td>0.0</td>\n      <td>0.0</td>\n      <td>0.0</td>\n      <td>70.0</td>\n      <td>5.1</td>\n      <td>3.1</td>\n      <td>0.0</td>\n      <td>3.0</td>\n      <td>0.0</td>\n    </tr>\n    <tr>\n      <th>4</th>\n      <td>0.0</td>\n      <td>0.0</td>\n      <td>0.0</td>\n      <td>0.0</td>\n      <td>0.0</td>\n      <td>0.0</td>\n      <td>0.0</td>\n      <td>0.0</td>\n      <td>0.0</td>\n      <td>0.0</td>\n      <td>...</td>\n      <td>0.0</td>\n      <td>0.0</td>\n      <td>0.0</td>\n      <td>0.0</td>\n      <td>83.0</td>\n      <td>5.6</td>\n      <td>4.3</td>\n      <td>0.0</td>\n      <td>3.0</td>\n      <td>0.0</td>\n    </tr>\n  </tbody>\n</table>\n<p>5 rows × 3177 columns</p>\n</div>"
     },
     "execution_count": 39,
     "metadata": {},
     "output_type": "execute_result"
    }
   ],
   "source": [
    "categorical_features = ['airline', 'flight_code', 'destination', 'cause']\n",
    "numeric_features = [col for col in merged_df.columns if col not in categorical_features]\n",
    "\n",
    "encoder = OneHotEncoder(handle_unknown='ignore')\n",
    "column_transformer = ColumnTransformer([('encoder', encoder, categorical_features)],\n",
    "                                       remainder='passthrough')\n",
    "encoded_data = column_transformer.fit_transform(merged_df)\n",
    "\n",
    "dump(column_transformer, \"one_hot_encoder.pkl\")\n",
    "\n",
    "encoded_df = pd.DataFrame(encoded_data.toarray())\n",
    "new_column_names = column_transformer.named_transformers_['encoder'].get_feature_names_out(\n",
    "        input_features=categorical_features)\n",
    "all_column_names = list(new_column_names) + list(numeric_features)\n",
    "encoded_df.columns = all_column_names\n",
    "\n",
    "encoded_df.head()"
   ],
   "metadata": {
    "collapsed": false,
    "ExecuteTime": {
     "end_time": "2024-04-02T14:52:05.209020Z",
     "start_time": "2024-04-02T14:52:04.275907Z"
    }
   },
   "id": "942fe5454d3b1631",
   "execution_count": 39
  },
  {
   "cell_type": "code",
   "outputs": [],
   "source": [
    "scaled_df = encoded_df.copy()\n",
    "scaled_df.dropna(inplace=True)\n",
    "scaled_df.to_csv('scaled.csv', index=False)"
   ],
   "metadata": {
    "collapsed": false,
    "ExecuteTime": {
     "end_time": "2024-04-02T14:59:25.252039Z",
     "start_time": "2024-04-02T14:54:40.070563Z"
    }
   },
   "id": "680e316daa8b5a3f",
   "execution_count": 40
  },
  {
   "cell_type": "code",
   "outputs": [],
   "source": [
    "Q1 = scaled_df['delay_minute'].quantile(0.25)\n",
    "Q3 = scaled_df['delay_minute'].quantile(0.75)\n",
    "IQR = Q3 - Q1\n",
    "not_outlier_condition = (scaled_df['delay_minute'] >= (Q1 - 1.5 * IQR)) & (\n",
    "        scaled_df['delay_minute'] <= (Q3 + 1.5 * IQR))\n",
    "\n",
    "scaled_df = scaled_df[not_outlier_condition]"
   ],
   "metadata": {
    "collapsed": false,
    "ExecuteTime": {
     "end_time": "2024-04-02T15:01:58.378123Z",
     "start_time": "2024-04-02T15:01:56.726038Z"
    }
   },
   "id": "3cdff509e2a932d7",
   "execution_count": 42
  },
  {
   "cell_type": "code",
   "outputs": [
    {
     "name": "stdout",
     "output_type": "stream",
     "text": [
      "Delayed avg(minute): 73.78613221802868\n"
     ]
    }
   ],
   "source": [
    "X = scaled_df.drop('delay_minute', axis=1)\n",
    "y = scaled_df['delay_minute']\n",
    "\n",
    "print(f\"Delayed avg(minute): {scaled_df[\"delay_minute\"].sum() / len(scaled_df[\"delay_minute\"])}\")"
   ],
   "metadata": {
    "collapsed": false,
    "ExecuteTime": {
     "end_time": "2024-04-02T15:02:05.640002Z",
     "start_time": "2024-04-02T15:02:04.347030Z"
    }
   },
   "id": "7672cbb59d84b93",
   "execution_count": 43
  },
  {
   "cell_type": "code",
   "outputs": [
    {
     "name": "stdout",
     "output_type": "stream",
     "text": [
      "Mean Absolute Error (MAE): 16.47059218005207\n"
     ]
    }
   ],
   "source": [
    "X_train, X_test, y_train, y_test = train_test_split(X, y, test_size=0.2)\n",
    "\n",
    "lasso_cv = make_pipeline(StandardScaler(), LassoCV(cv=5))\n",
    "lasso_cv.fit(X_train, y_train)\n",
    "\n",
    "y_pred = lasso_cv.predict(X_test)\n",
    "\n",
    "mae = mean_absolute_error(y_test, y_pred)\n",
    "print(\"Mean Absolute Error (MAE):\", mae)"
   ],
   "metadata": {
    "collapsed": false,
    "ExecuteTime": {
     "end_time": "2024-04-02T15:07:47.590052Z",
     "start_time": "2024-04-02T15:02:21.921897Z"
    }
   },
   "id": "afca6b73c5d70d6e",
   "execution_count": 44
  },
  {
   "cell_type": "code",
   "outputs": [
    {
     "data": {
      "text/plain": "['lasso_cv_model.joblib']"
     },
     "execution_count": 45,
     "metadata": {},
     "output_type": "execute_result"
    }
   ],
   "source": [
    "dump(lasso_cv, 'lasso_cv_model.joblib')"
   ],
   "metadata": {
    "collapsed": false,
    "ExecuteTime": {
     "end_time": "2024-04-02T15:08:36.192374Z",
     "start_time": "2024-04-02T15:08:36.149241Z"
    }
   },
   "id": "def3b3964e720512",
   "execution_count": 45
  }
 ],
 "metadata": {
  "kernelspec": {
   "display_name": "Python 3",
   "language": "python",
   "name": "python3"
  },
  "language_info": {
   "codemirror_mode": {
    "name": "ipython",
    "version": 2
   },
   "file_extension": ".py",
   "mimetype": "text/x-python",
   "name": "python",
   "nbconvert_exporter": "python",
   "pygments_lexer": "ipython2",
   "version": "2.7.6"
  }
 },
 "nbformat": 4,
 "nbformat_minor": 5
}
